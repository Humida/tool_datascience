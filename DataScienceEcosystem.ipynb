{
 "cells": [
  {
   "cell_type": "markdown",
   "id": "ac55bbb8-ae93-4b98-8e57-ab837b012ee9",
   "metadata": {},
   "source": [
    "#### Exercise 2: Create markdown cell with title of the notebook"
   ]
  },
  {
   "cell_type": "markdown",
   "id": "0a4ebaea-85cb-4d0f-a104-a543af3ceb05",
   "metadata": {},
   "source": [
    "# Data Science Tools and Ecosystem"
   ]
  },
  {
   "cell_type": "markdown",
   "id": "5666a9e0-683f-47f7-91b5-519e037e7a17",
   "metadata": {},
   "source": [
    "#### Exersice 3:  Create a markdown cell for an introduction"
   ]
  },
  {
   "cell_type": "markdown",
   "id": "8ef617b5-18ab-4d19-b945-7dc38e738c61",
   "metadata": {},
   "source": [
    "##### In this notebook, Data Science Tools and Ecosystem are summarized."
   ]
  },
  {
   "cell_type": "markdown",
   "id": "c5627baa-70da-4bab-a261-60eb2e38dc40",
   "metadata": {},
   "source": [
    "#### Exercise 4 : Create a markdown cell to list data science languages"
   ]
  },
  {
   "cell_type": "markdown",
   "id": "3e376727-9ea6-494f-b164-29696839f5a0",
   "metadata": {},
   "source": [
    "##### Some of the popular languages that Data Scientists use are:\n",
    "<ol>\n",
    "    <li>Python</li>\n",
    "    <li>R</li>\n",
    "    <li>Julia</li>\n",
    "    <li>Java</li>\n",
    "</ol>"
   ]
  },
  {
   "cell_type": "markdown",
   "id": "20247acb-cfd9-4364-8322-651517cad223",
   "metadata": {},
   "source": [
    "#### Exercise 5 - Create a markdown cell to list data science libraries"
   ]
  },
  {
   "cell_type": "markdown",
   "id": "b8b02e7e-ca66-4064-8ae9-49ec7e6809f2",
   "metadata": {},
   "source": [
    "##### Some of the commonly used libraries used by Data Scientists include:\n",
    "<ol>\n",
    "    <li>Tensorflow</li>\n",
    "    <li>Pytorch</li>\n",
    "    <li>Numpy</li>\n",
    "    <li>Pandas</li>\n",
    "    <li>Matplotlib</li>\n",
    "    <li>Scikit-learn</li>\n",
    "</ol>"
   ]
  },
  {
   "cell_type": "markdown",
   "id": "9493c103-001f-4ffa-9585-f550e6d8049c",
   "metadata": {},
   "source": [
    "#### Exercise 6 - Create a markdown cell with a table of Data Science tools"
   ]
  },
  {
   "cell_type": "markdown",
   "id": "944a51e7-55e8-4d7c-bc06-7d7186f079e4",
   "metadata": {},
   "source": [
    "|Data Science Tool|\n",
    "|-----------------|\n",
    "|RStudio|\n",
    "|Apache Spark|\n",
    "|Apache Hadoop|"
   ]
  },
  {
   "cell_type": "markdown",
   "id": "5c4acd57-cb7b-4706-a2e3-8227e1c09dfe",
   "metadata": {},
   "source": [
    "#### Exercise 7 - Create a markdown cell introducing arithmetic expression examples"
   ]
  },
  {
   "cell_type": "markdown",
   "id": "171a1679-f94a-4c78-929d-d1576117c509",
   "metadata": {},
   "source": [
    "### Below are a few examples of evaluating arithmetic expressions in Python"
   ]
  },
  {
   "cell_type": "markdown",
   "id": "dabf13b8-8fbc-475e-be02-225a879c6dfd",
   "metadata": {},
   "source": [
    "#### Exercise 8 - Create a code cell to multiply and add numbers"
   ]
  },
  {
   "cell_type": "code",
   "execution_count": 2,
   "id": "3c965cc9-2283-4b16-a138-e27281ab2326",
   "metadata": {},
   "outputs": [
    {
     "data": {
      "text/plain": [
       "17"
      ]
     },
     "execution_count": 2,
     "metadata": {},
     "output_type": "execute_result"
    }
   ],
   "source": [
    "# This a simple arithemetic expression to mutiply then add integers. \n",
    "(3*4) + 5"
   ]
  },
  {
   "cell_type": "markdown",
   "id": "f98a03a9-94ea-4eca-81cc-25fb5295580f",
   "metadata": {},
   "source": [
    "#### Exercise 9 - Create a code cell to convert minutes to hours"
   ]
  },
  {
   "cell_type": "code",
   "execution_count": 3,
   "id": "19c0be32-671a-4477-98c5-b636f2237117",
   "metadata": {},
   "outputs": [
    {
     "data": {
      "text/plain": [
       "3.3333333333333335"
      ]
     },
     "execution_count": 3,
     "metadata": {},
     "output_type": "execute_result"
    }
   ],
   "source": [
    "# This will convert 200 minutes to hours by diving by \n",
    "200/60"
   ]
  },
  {
   "cell_type": "markdown",
   "id": "c60ba56e-fa30-453b-b4b4-d56ac99743cc",
   "metadata": {},
   "source": [
    "#### Exercise 10 - Insert a markdown cell to list Objectivess"
   ]
  },
  {
   "cell_type": "markdown",
   "id": "a19b27b8-247e-4c90-a6a1-23c1a9fc2dee",
   "metadata": {},
   "source": [
    "**Objectives:**\n",
    "##### List popular languages for Data Science :\n",
    "<ul>\n",
    "    <li>Python</li>\n",
    "    <li>R</li>\n",
    "    <li>Julia</li>\n",
    "    <li>Java</li>\n",
    "</ul>"
   ]
  },
  {
   "cell_type": "markdown",
   "id": "f310ab68-6288-40de-9a9d-0ef9b8e96536",
   "metadata": {},
   "source": [
    "#### Exercise 11 - Create a markdown cell to indicate the Author's name"
   ]
  },
  {
   "cell_type": "markdown",
   "id": "3661a705-50f0-49f0-ae53-c024afa7eda5",
   "metadata": {},
   "source": [
    "## Author\n",
    "## Huynh Minh Danh"
   ]
  }
 ],
 "metadata": {
  "kernelspec": {
   "display_name": "Python 3 (ipykernel)",
   "language": "python",
   "name": "python3"
  },
  "language_info": {
   "codemirror_mode": {
    "name": "ipython",
    "version": 3
   },
   "file_extension": ".py",
   "mimetype": "text/x-python",
   "name": "python",
   "nbconvert_exporter": "python",
   "pygments_lexer": "ipython3",
   "version": "3.12.4"
  }
 },
 "nbformat": 4,
 "nbformat_minor": 5
}
